{
  "nbformat": 4,
  "nbformat_minor": 0,
  "metadata": {
    "colab": {
      "name": "TS-Simplilearn.ipynb",
      "version": "0.3.2",
      "provenance": [],
      "collapsed_sections": [],
      "toc_visible": true,
      "include_colab_link": true
    },
    "kernelspec": {
      "name": "python3",
      "display_name": "Python 3"
    },
    "accelerator": "GPU"
  },
  "cells": [
    {
      "cell_type": "markdown",
      "metadata": {
        "id": "view-in-github",
        "colab_type": "text"
      },
      "source": [
        "<a href=\"https://colab.research.google.com/github/NeelkanthMehta/hello-world/blob/master/TS_Simplilearn.ipynb\" target=\"_parent\"><img src=\"https://colab.research.google.com/assets/colab-badge.svg\" alt=\"Open In Colab\"/></a>"
      ]
    },
    {
      "metadata": {
        "id": "oJwQrExi59rq",
        "colab_type": "text"
      },
      "cell_type": "markdown",
      "source": [
        "# Introduction to TensorFlow\n",
        "### Overview\n",
        "Originally developed to run large numerical computations, it is an opensource library developed by Google.\n",
        "\n",
        "Has a faster compilatioin time than other Deep Learning libraries like Keras and PyTorch.\n",
        "\n",
        "Supports both CPUs and GPUs.\n",
        "\n",
        "Accepts data in the form of multidimentional arrays of higher dimensions called Tensors\n",
        "\n",
        "Works on basis of data flow graphs that have nodes and edges, making it easier for parallel processing.\n",
        "\n",
        "**What is a Tensor?**\n",
        "\n",
        "A Tensor is a generalizatioin of vectors and matrices of potentially higher dimensions. Arrays of data w/ different dimensions and rank that are fed as input to the neural network\n",
        "\n",
        "**Dimension**: Tensor of Rank 0, 1, 2, 3\n",
        "\n",
        "Each computation in TF is represented as a data flow graph - Each node in the grpah represents a mathematical operation (add, subtract, multiply, etc.) and each edge represents multidimensional arrays (Tensors) - Computational graph is the graph of programming logic which TF builds in the memory - enables creating large neural networks as computing can be distributed across several CPUs or GPUs\n",
        "\n",
        "**Program elements in TensorFLow**:\n",
        "TF programme works into two basic components, *viz*., building computational graph and executing a computational graph\n",
        "\n",
        "types of variables:\n",
        "1. constants: `W = tf.constant()`\n",
        "2. variable: `b = tf.Variable([-3], dtype=tf.float32)`\n",
        "3. placeholder: `x = tf.placeholder(tf.float32)`\n",
        "\n",
        "`linear_model = W * x + b`\n",
        "\n",
        "\n",
        "placeholders allow us to feed data to Tf model from outside of a model. It permits value to be assisted later.\n",
        "\n",
        "`\n",
        "with tf.Session() as sess:\n",
        "      result = sess.run(b, feed_dict=(a:3.0))\n",
        "      \n",
        "print(result)\n",
        "`\n",
        "\n",
        "A session is run to evaluate nodes. This is called as the TF runtime. The following example demonstrate code for running a computation graph\n",
        "\n",
        "`\n",
        "a = tf.constant(5.0)\n",
        "b = tf.constant(3.0)\n",
        "c = a * b\n",
        "\n",
        "##### Launch Session\n",
        "sess = tf.Session()\n",
        "\n",
        "##### Evaluate the tensor c\n",
        "print(sess.run(c))`\n",
        "\n",
        "\n",
        "\n",
        "\n"
      ]
    },
    {
      "metadata": {
        "id": "PqeqLt6N8kNX",
        "colab_type": "code",
        "colab": {}
      },
      "cell_type": "code",
      "source": [
        "import tensorflow as tf"
      ],
      "execution_count": 0,
      "outputs": []
    },
    {
      "metadata": {
        "id": "tSxR5XeoDObZ",
        "colab_type": "code",
        "outputId": "5d8ed934-7080-4dfc-827b-e2119e170add",
        "colab": {
          "base_uri": "https://localhost:8080/",
          "height": 92
        }
      },
      "cell_type": "code",
      "source": [
        "zero = tf.Variable(0)\n",
        "\n",
        "one = tf.constant(1)\n",
        "\n",
        "new_value = tf.add(zero, one)\n",
        "\n",
        "update = tf.assign(zero, new_value)"
      ],
      "execution_count": 0,
      "outputs": [
        {
          "output_type": "stream",
          "text": [
            "WARNING:tensorflow:From /usr/local/lib/python3.6/dist-packages/tensorflow/python/framework/op_def_library.py:263: colocate_with (from tensorflow.python.framework.ops) is deprecated and will be removed in a future version.\n",
            "Instructions for updating:\n",
            "Colocations handled automatically by placer.\n"
          ],
          "name": "stdout"
        }
      ]
    },
    {
      "metadata": {
        "id": "vbYfdOeEDlCQ",
        "colab_type": "code",
        "colab": {}
      },
      "cell_type": "code",
      "source": [
        "init_op = tf.global_variables_initializer()\n",
        "\n",
        "sess = tf.Session()\n",
        "\n",
        "sess.run(init_op)"
      ],
      "execution_count": 0,
      "outputs": []
    },
    {
      "metadata": {
        "id": "MI2OjtUwEnBZ",
        "colab_type": "code",
        "outputId": "67fd7d48-4dc4-4c82-e7f3-14f84ea98f41",
        "colab": {
          "base_uri": "https://localhost:8080/",
          "height": 35
        }
      },
      "cell_type": "code",
      "source": [
        "print(sess.run(zero))"
      ],
      "execution_count": 0,
      "outputs": [
        {
          "output_type": "stream",
          "text": [
            "0\n"
          ],
          "name": "stdout"
        }
      ]
    },
    {
      "metadata": {
        "id": "IBx3OO6kFlK9",
        "colab_type": "code",
        "outputId": "9bd082f2-9528-4166-fbba-e97e11c6c27f",
        "colab": {
          "base_uri": "https://localhost:8080/",
          "height": 108
        }
      },
      "cell_type": "code",
      "source": [
        "for _ in range(0,5,1):\n",
        "  sess.run(update)\n",
        "  print(sess.run(zero))"
      ],
      "execution_count": 0,
      "outputs": [
        {
          "output_type": "stream",
          "text": [
            "1\n",
            "2\n",
            "3\n",
            "4\n",
            "5\n"
          ],
          "name": "stdout"
        }
      ]
    },
    {
      "metadata": {
        "id": "AlzUFlVkF8Bj",
        "colab_type": "code",
        "colab": {}
      },
      "cell_type": "code",
      "source": [
        "# String operations\n",
        "hello = tf.constant('hello')\n",
        "world = tf.constant('world')\n",
        "helloworld = tf.add(hello, world)"
      ],
      "execution_count": 0,
      "outputs": []
    },
    {
      "metadata": {
        "id": "rtrxv30dGcEi",
        "colab_type": "code",
        "outputId": "de18e744-96ab-4f50-9253-c164473de9c1",
        "colab": {
          "base_uri": "https://localhost:8080/",
          "height": 35
        }
      },
      "cell_type": "code",
      "source": [
        "print(sess.run(helloworld))"
      ],
      "execution_count": 0,
      "outputs": [
        {
          "output_type": "stream",
          "text": [
            "b'helloworld'\n"
          ],
          "name": "stdout"
        }
      ]
    },
    {
      "metadata": {
        "id": "BBKHBQw6GiNi",
        "colab_type": "code",
        "colab": {}
      },
      "cell_type": "code",
      "source": [
        "a = tf.placeholder(tf.float32)"
      ],
      "execution_count": 0,
      "outputs": []
    },
    {
      "metadata": {
        "id": "6vPcSVO_G1oe",
        "colab_type": "code",
        "colab": {}
      },
      "cell_type": "code",
      "source": [
        "b = a * 2"
      ],
      "execution_count": 0,
      "outputs": []
    },
    {
      "metadata": {
        "id": "TZF6UBckG37f",
        "colab_type": "code",
        "outputId": "8376f120-57df-4561-f1f3-6af3d89085ff",
        "colab": {
          "base_uri": "https://localhost:8080/",
          "height": 35
        }
      },
      "cell_type": "code",
      "source": [
        "result = sess.run(b, feed_dict={a:3})\n",
        "\n",
        "print(result)"
      ],
      "execution_count": 0,
      "outputs": [
        {
          "output_type": "stream",
          "text": [
            "6.0\n"
          ],
          "name": "stdout"
        }
      ]
    },
    {
      "metadata": {
        "id": "65tWz4ZiHCEA",
        "colab_type": "code",
        "outputId": "bf026973-f2af-4462-d38e-c79434f6186c",
        "colab": {
          "base_uri": "https://localhost:8080/",
          "height": 35
        }
      },
      "cell_type": "code",
      "source": [
        "result = sess.run(b, feed_dict={a:[2,4,6]})\n",
        "\n",
        "print(result)"
      ],
      "execution_count": 0,
      "outputs": [
        {
          "output_type": "stream",
          "text": [
            "[ 4.  8. 12.]\n"
          ],
          "name": "stdout"
        }
      ]
    },
    {
      "metadata": {
        "id": "fXOeDkn1HNIv",
        "colab_type": "code",
        "outputId": "3bf3d59e-7332-49ab-cdd3-de49b1289cee",
        "colab": {
          "base_uri": "https://localhost:8080/",
          "height": 181
        }
      },
      "cell_type": "code",
      "source": [
        "dictionary = {a:[[[1, 2, 3],[4, 5, 6], [7, 8, 9], [10, 11, 12]], [[13, 14, 15], [16, 17, 18], [19, 20, 21], [22, 23, 24]]]}\n",
        "\n",
        "result = sess.run(b, feed_dict=dictionary)\n",
        "print(result)"
      ],
      "execution_count": 0,
      "outputs": [
        {
          "output_type": "stream",
          "text": [
            "[[[ 2.  4.  6.]\n",
            "  [ 8. 10. 12.]\n",
            "  [14. 16. 18.]\n",
            "  [20. 22. 24.]]\n",
            "\n",
            " [[26. 28. 30.]\n",
            "  [32. 34. 36.]\n",
            "  [38. 40. 42.]\n",
            "  [44. 46. 48.]]]\n"
          ],
          "name": "stdout"
        }
      ]
    },
    {
      "metadata": {
        "id": "4x5h20bYIv-T",
        "colab_type": "code",
        "colab": {}
      },
      "cell_type": "code",
      "source": [
        "sess.close()"
      ],
      "execution_count": 0,
      "outputs": []
    },
    {
      "metadata": {
        "id": "_rc1zMFII9di",
        "colab_type": "code",
        "outputId": "1432aed9-72b8-417d-8475-3b2c18c6b12b",
        "colab": {
          "base_uri": "https://localhost:8080/",
          "height": 35
        }
      },
      "cell_type": "code",
      "source": [
        "with tf.Session() as sess:\n",
        "  result = sess.run(hello+world)\n",
        "  print(result)"
      ],
      "execution_count": 0,
      "outputs": [
        {
          "output_type": "stream",
          "text": [
            "b'helloworld'\n"
          ],
          "name": "stdout"
        }
      ]
    },
    {
      "metadata": {
        "id": "dsm1CIVyJ-eN",
        "colab_type": "code",
        "colab": {}
      },
      "cell_type": "code",
      "source": [
        "graph = tf.get_default_graph()\n"
      ],
      "execution_count": 0,
      "outputs": []
    },
    {
      "metadata": {
        "id": "5EuqZTG7L1lN",
        "colab_type": "code",
        "outputId": "508827f7-d5ba-4934-f4ba-628bfe9f0d29",
        "colab": {
          "base_uri": "https://localhost:8080/",
          "height": 326
        }
      },
      "cell_type": "code",
      "source": [
        "graph.get_operations()"
      ],
      "execution_count": 0,
      "outputs": [
        {
          "output_type": "execute_result",
          "data": {
            "text/plain": [
              "[<tf.Operation 'Variable/initial_value' type=Const>,\n",
              " <tf.Operation 'Variable' type=VariableV2>,\n",
              " <tf.Operation 'Variable/Assign' type=Assign>,\n",
              " <tf.Operation 'Variable/read' type=Identity>,\n",
              " <tf.Operation 'Const' type=Const>,\n",
              " <tf.Operation 'Add' type=Add>,\n",
              " <tf.Operation 'Assign' type=Assign>,\n",
              " <tf.Operation 'init' type=NoOp>,\n",
              " <tf.Operation 'Const_1' type=Const>,\n",
              " <tf.Operation 'Const_2' type=Const>,\n",
              " <tf.Operation 'Add_1' type=Add>,\n",
              " <tf.Operation 'Placeholder' type=Placeholder>,\n",
              " <tf.Operation 'mul/y' type=Const>,\n",
              " <tf.Operation 'mul' type=Mul>,\n",
              " <tf.Operation 'add_2' type=Add>,\n",
              " <tf.Operation 'add_3' type=Add>,\n",
              " <tf.Operation 'a' type=Const>]"
            ]
          },
          "metadata": {
            "tags": []
          },
          "execution_count": 22
        }
      ]
    },
    {
      "metadata": {
        "id": "TmZijymtL3sY",
        "colab_type": "code",
        "colab": {}
      },
      "cell_type": "code",
      "source": [
        "a = tf.constant(10, name=\"a\")"
      ],
      "execution_count": 0,
      "outputs": []
    },
    {
      "metadata": {
        "id": "0nj0HkNaMB93",
        "colab_type": "code",
        "outputId": "308d8088-365f-4bbd-c5b6-7089b3773ce8",
        "colab": {
          "base_uri": "https://localhost:8080/",
          "height": 345
        }
      },
      "cell_type": "code",
      "source": [
        "operations = graph.get_operations()\n",
        "operations"
      ],
      "execution_count": 0,
      "outputs": [
        {
          "output_type": "execute_result",
          "data": {
            "text/plain": [
              "[<tf.Operation 'Variable/initial_value' type=Const>,\n",
              " <tf.Operation 'Variable' type=VariableV2>,\n",
              " <tf.Operation 'Variable/Assign' type=Assign>,\n",
              " <tf.Operation 'Variable/read' type=Identity>,\n",
              " <tf.Operation 'Const' type=Const>,\n",
              " <tf.Operation 'Add' type=Add>,\n",
              " <tf.Operation 'Assign' type=Assign>,\n",
              " <tf.Operation 'init' type=NoOp>,\n",
              " <tf.Operation 'Const_1' type=Const>,\n",
              " <tf.Operation 'Const_2' type=Const>,\n",
              " <tf.Operation 'Add_1' type=Add>,\n",
              " <tf.Operation 'Placeholder' type=Placeholder>,\n",
              " <tf.Operation 'mul/y' type=Const>,\n",
              " <tf.Operation 'mul' type=Mul>,\n",
              " <tf.Operation 'add_2' type=Add>,\n",
              " <tf.Operation 'add_3' type=Add>,\n",
              " <tf.Operation 'a' type=Const>,\n",
              " <tf.Operation 'a_1' type=Const>]"
            ]
          },
          "metadata": {
            "tags": []
          },
          "execution_count": 24
        }
      ]
    },
    {
      "metadata": {
        "id": "ymJ3kFUjLjHF",
        "colab_type": "code",
        "outputId": "eb858936-086c-408b-e23a-f78d0edb99d4",
        "colab": {
          "base_uri": "https://localhost:8080/",
          "height": 363
        }
      },
      "cell_type": "code",
      "source": [
        "b = tf.constant(20, name='b')\n",
        "operations = graph.get_operations()\n",
        "operations"
      ],
      "execution_count": 0,
      "outputs": [
        {
          "output_type": "execute_result",
          "data": {
            "text/plain": [
              "[<tf.Operation 'Variable/initial_value' type=Const>,\n",
              " <tf.Operation 'Variable' type=VariableV2>,\n",
              " <tf.Operation 'Variable/Assign' type=Assign>,\n",
              " <tf.Operation 'Variable/read' type=Identity>,\n",
              " <tf.Operation 'Const' type=Const>,\n",
              " <tf.Operation 'Add' type=Add>,\n",
              " <tf.Operation 'Assign' type=Assign>,\n",
              " <tf.Operation 'init' type=NoOp>,\n",
              " <tf.Operation 'Const_1' type=Const>,\n",
              " <tf.Operation 'Const_2' type=Const>,\n",
              " <tf.Operation 'Add_1' type=Add>,\n",
              " <tf.Operation 'Placeholder' type=Placeholder>,\n",
              " <tf.Operation 'mul/y' type=Const>,\n",
              " <tf.Operation 'mul' type=Mul>,\n",
              " <tf.Operation 'add_2' type=Add>,\n",
              " <tf.Operation 'add_3' type=Add>,\n",
              " <tf.Operation 'a' type=Const>,\n",
              " <tf.Operation 'a_1' type=Const>,\n",
              " <tf.Operation 'b' type=Const>]"
            ]
          },
          "metadata": {
            "tags": []
          },
          "execution_count": 25
        }
      ]
    },
    {
      "metadata": {
        "id": "3NsG4EXqM4XS",
        "colab_type": "code",
        "outputId": "74fc19ab-b53c-4b00-d05c-330a615515ef",
        "colab": {
          "base_uri": "https://localhost:8080/",
          "height": 35
        }
      },
      "cell_type": "code",
      "source": [
        "c = tf.add(a, b, name='c')\n",
        "c"
      ],
      "execution_count": 0,
      "outputs": [
        {
          "output_type": "execute_result",
          "data": {
            "text/plain": [
              "<tf.Tensor 'c:0' shape=() dtype=int32>"
            ]
          },
          "metadata": {
            "tags": []
          },
          "execution_count": 26
        }
      ]
    },
    {
      "metadata": {
        "id": "0RtQfLl3NJ3o",
        "colab_type": "code",
        "outputId": "80575e8e-f01a-4c1e-8838-922a663514b1",
        "colab": {
          "base_uri": "https://localhost:8080/",
          "height": 381
        }
      },
      "cell_type": "code",
      "source": [
        "operations = graph.get_operations()\n",
        "operations"
      ],
      "execution_count": 0,
      "outputs": [
        {
          "output_type": "execute_result",
          "data": {
            "text/plain": [
              "[<tf.Operation 'Variable/initial_value' type=Const>,\n",
              " <tf.Operation 'Variable' type=VariableV2>,\n",
              " <tf.Operation 'Variable/Assign' type=Assign>,\n",
              " <tf.Operation 'Variable/read' type=Identity>,\n",
              " <tf.Operation 'Const' type=Const>,\n",
              " <tf.Operation 'Add' type=Add>,\n",
              " <tf.Operation 'Assign' type=Assign>,\n",
              " <tf.Operation 'init' type=NoOp>,\n",
              " <tf.Operation 'Const_1' type=Const>,\n",
              " <tf.Operation 'Const_2' type=Const>,\n",
              " <tf.Operation 'Add_1' type=Add>,\n",
              " <tf.Operation 'Placeholder' type=Placeholder>,\n",
              " <tf.Operation 'mul/y' type=Const>,\n",
              " <tf.Operation 'mul' type=Mul>,\n",
              " <tf.Operation 'add_2' type=Add>,\n",
              " <tf.Operation 'add_3' type=Add>,\n",
              " <tf.Operation 'a' type=Const>,\n",
              " <tf.Operation 'a_1' type=Const>,\n",
              " <tf.Operation 'b' type=Const>,\n",
              " <tf.Operation 'c' type=Add>]"
            ]
          },
          "metadata": {
            "tags": []
          },
          "execution_count": 27
        }
      ]
    },
    {
      "metadata": {
        "id": "1hqCzBy-NWz7",
        "colab_type": "code",
        "outputId": "aa92f9cb-4133-4442-96cd-22252bda1c0c",
        "colab": {
          "base_uri": "https://localhost:8080/",
          "height": 35
        }
      },
      "cell_type": "code",
      "source": [
        "d = tf.multiply(a, b, name='d')\n",
        "d"
      ],
      "execution_count": 0,
      "outputs": [
        {
          "output_type": "execute_result",
          "data": {
            "text/plain": [
              "<tf.Tensor 'd:0' shape=() dtype=int32>"
            ]
          },
          "metadata": {
            "tags": []
          },
          "execution_count": 28
        }
      ]
    },
    {
      "metadata": {
        "id": "QYhrVB9BNlJr",
        "colab_type": "code",
        "colab": {}
      },
      "cell_type": "code",
      "source": [
        "operations.append(d)"
      ],
      "execution_count": 0,
      "outputs": []
    },
    {
      "metadata": {
        "id": "qPck45KHNpP0",
        "colab_type": "code",
        "outputId": "f88e9f44-74e2-40dc-ba9c-fdc7110e0001",
        "colab": {
          "base_uri": "https://localhost:8080/",
          "height": 399
        }
      },
      "cell_type": "code",
      "source": [
        "operations = graph.get_operations()\n",
        "operations"
      ],
      "execution_count": 0,
      "outputs": [
        {
          "output_type": "execute_result",
          "data": {
            "text/plain": [
              "[<tf.Operation 'Variable/initial_value' type=Const>,\n",
              " <tf.Operation 'Variable' type=VariableV2>,\n",
              " <tf.Operation 'Variable/Assign' type=Assign>,\n",
              " <tf.Operation 'Variable/read' type=Identity>,\n",
              " <tf.Operation 'Const' type=Const>,\n",
              " <tf.Operation 'Add' type=Add>,\n",
              " <tf.Operation 'Assign' type=Assign>,\n",
              " <tf.Operation 'init' type=NoOp>,\n",
              " <tf.Operation 'Const_1' type=Const>,\n",
              " <tf.Operation 'Const_2' type=Const>,\n",
              " <tf.Operation 'Add_1' type=Add>,\n",
              " <tf.Operation 'Placeholder' type=Placeholder>,\n",
              " <tf.Operation 'mul/y' type=Const>,\n",
              " <tf.Operation 'mul' type=Mul>,\n",
              " <tf.Operation 'add_2' type=Add>,\n",
              " <tf.Operation 'add_3' type=Add>,\n",
              " <tf.Operation 'a' type=Const>,\n",
              " <tf.Operation 'a_1' type=Const>,\n",
              " <tf.Operation 'b' type=Const>,\n",
              " <tf.Operation 'c' type=Add>,\n",
              " <tf.Operation 'd' type=Mul>]"
            ]
          },
          "metadata": {
            "tags": []
          },
          "execution_count": 33
        }
      ]
    },
    {
      "metadata": {
        "id": "75YzlN8HOSdz",
        "colab_type": "code",
        "outputId": "d5c6a8e1-ebca-40f4-b983-8ce1398beb9c",
        "colab": {
          "base_uri": "https://localhost:8080/",
          "height": 417
        }
      },
      "cell_type": "code",
      "source": [
        "sess = tf.Session()\n",
        "print(sess.run(d))\n",
        "for op in graph.get_operations():\n",
        "  print(op.name)"
      ],
      "execution_count": 0,
      "outputs": [
        {
          "output_type": "stream",
          "text": [
            "200\n",
            "Variable/initial_value\n",
            "Variable\n",
            "Variable/Assign\n",
            "Variable/read\n",
            "Const\n",
            "Add\n",
            "Assign\n",
            "init\n",
            "Const_1\n",
            "Const_2\n",
            "Add_1\n",
            "Placeholder\n",
            "mul/y\n",
            "mul\n",
            "add_2\n",
            "add_3\n",
            "a\n",
            "a_1\n",
            "b\n",
            "c\n",
            "d\n"
          ],
          "name": "stdout"
        }
      ]
    },
    {
      "metadata": {
        "id": "Q4nRIAlqOsh9",
        "colab_type": "code",
        "colab": {}
      },
      "cell_type": "code",
      "source": [
        "sess.close()"
      ],
      "execution_count": 0,
      "outputs": []
    },
    {
      "metadata": {
        "id": "E2ha4MX_dLJ7",
        "colab_type": "code",
        "colab": {}
      },
      "cell_type": "code",
      "source": [
        "tf.reset_default_graph()"
      ],
      "execution_count": 0,
      "outputs": []
    },
    {
      "metadata": {
        "id": "u3siCn9WPCKC",
        "colab_type": "text"
      },
      "cell_type": "markdown",
      "source": [
        "### Use case implementation using TensorFlow:\n",
        "\n",
        "Lets use various features of an individual to predict what class of income they may belong to (>50K or <=50K) using a census data."
      ]
    },
    {
      "metadata": {
        "id": "skYstIMdPmvO",
        "colab_type": "code",
        "colab": {}
      },
      "cell_type": "code",
      "source": [
        "import pandas as pd"
      ],
      "execution_count": 0,
      "outputs": []
    },
    {
      "metadata": {
        "id": "3lXhqLn2TY8R",
        "colab_type": "code",
        "outputId": "3658a8a9-0119-422b-fd75-183678486bec",
        "colab": {
          "base_uri": "https://localhost:8080/",
          "height": 183
        }
      },
      "cell_type": "code",
      "source": [
        "!pip install wget"
      ],
      "execution_count": 0,
      "outputs": [
        {
          "output_type": "stream",
          "text": [
            "Collecting wget\n",
            "  Downloading https://files.pythonhosted.org/packages/47/6a/62e288da7bcda82b935ff0c6cfe542970f04e29c756b0e147251b2fb251f/wget-3.2.zip\n",
            "Building wheels for collected packages: wget\n",
            "  Building wheel for wget (setup.py) ... \u001b[?25ldone\n",
            "\u001b[?25h  Stored in directory: /root/.cache/pip/wheels/40/15/30/7d8f7cea2902b4db79e3fea550d7d7b85ecb27ef992b618f3f\n",
            "Successfully built wget\n",
            "Installing collected packages: wget\n",
            "Successfully installed wget-3.2\n"
          ],
          "name": "stdout"
        }
      ]
    },
    {
      "metadata": {
        "id": "bWAyGz4dU3G_",
        "colab_type": "code",
        "colab": {}
      },
      "cell_type": "code",
      "source": [
        "import wget"
      ],
      "execution_count": 0,
      "outputs": []
    },
    {
      "metadata": {
        "id": "WMyTlf1uU7Yj",
        "colab_type": "code",
        "colab": {}
      },
      "cell_type": "code",
      "source": [
        "file = wget.download(url='https://raw.githubusercontent.com/agupta98/Tensorflow/master/census_data.csv', out='./census.csv')"
      ],
      "execution_count": 0,
      "outputs": []
    },
    {
      "metadata": {
        "id": "ZTX1kR-8VP6J",
        "colab_type": "code",
        "outputId": "5030c889-9b21-4b75-a547-0235cb56b397",
        "colab": {
          "base_uri": "https://localhost:8080/",
          "height": 35
        }
      },
      "cell_type": "code",
      "source": [
        "!pwd"
      ],
      "execution_count": 0,
      "outputs": [
        {
          "output_type": "stream",
          "text": [
            "/content\n"
          ],
          "name": "stdout"
        }
      ]
    },
    {
      "metadata": {
        "id": "2ndUEwilV4ee",
        "colab_type": "code",
        "colab": {}
      },
      "cell_type": "code",
      "source": [
        "census = pd.read_csv('census.csv')"
      ],
      "execution_count": 0,
      "outputs": []
    },
    {
      "metadata": {
        "id": "WGwN72JAWDjK",
        "colab_type": "code",
        "outputId": "dbca8a13-bfd5-464b-e544-38fde73abcb4",
        "colab": {
          "base_uri": "https://localhost:8080/",
          "height": 287
        }
      },
      "cell_type": "code",
      "source": [
        "census.head()"
      ],
      "execution_count": 0,
      "outputs": [
        {
          "output_type": "execute_result",
          "data": {
            "text/html": [
              "<div>\n",
              "<style scoped>\n",
              "    .dataframe tbody tr th:only-of-type {\n",
              "        vertical-align: middle;\n",
              "    }\n",
              "\n",
              "    .dataframe tbody tr th {\n",
              "        vertical-align: top;\n",
              "    }\n",
              "\n",
              "    .dataframe thead th {\n",
              "        text-align: right;\n",
              "    }\n",
              "</style>\n",
              "<table border=\"1\" class=\"dataframe\">\n",
              "  <thead>\n",
              "    <tr style=\"text-align: right;\">\n",
              "      <th></th>\n",
              "      <th>age</th>\n",
              "      <th>workclass</th>\n",
              "      <th>education</th>\n",
              "      <th>education_num</th>\n",
              "      <th>marital_status</th>\n",
              "      <th>occupation</th>\n",
              "      <th>relationship</th>\n",
              "      <th>race</th>\n",
              "      <th>gender</th>\n",
              "      <th>capital_gain</th>\n",
              "      <th>capital_loss</th>\n",
              "      <th>hours_per_week</th>\n",
              "      <th>native_country</th>\n",
              "      <th>income_bracket</th>\n",
              "    </tr>\n",
              "  </thead>\n",
              "  <tbody>\n",
              "    <tr>\n",
              "      <th>0</th>\n",
              "      <td>39</td>\n",
              "      <td>State-gov</td>\n",
              "      <td>Bachelors</td>\n",
              "      <td>13</td>\n",
              "      <td>Never-married</td>\n",
              "      <td>Adm-clerical</td>\n",
              "      <td>Not-in-family</td>\n",
              "      <td>White</td>\n",
              "      <td>Male</td>\n",
              "      <td>2174</td>\n",
              "      <td>0</td>\n",
              "      <td>40</td>\n",
              "      <td>United-States</td>\n",
              "      <td>&lt;=50K</td>\n",
              "    </tr>\n",
              "    <tr>\n",
              "      <th>1</th>\n",
              "      <td>50</td>\n",
              "      <td>Self-emp-not-inc</td>\n",
              "      <td>Bachelors</td>\n",
              "      <td>13</td>\n",
              "      <td>Married-civ-spouse</td>\n",
              "      <td>Exec-managerial</td>\n",
              "      <td>Husband</td>\n",
              "      <td>White</td>\n",
              "      <td>Male</td>\n",
              "      <td>0</td>\n",
              "      <td>0</td>\n",
              "      <td>13</td>\n",
              "      <td>United-States</td>\n",
              "      <td>&lt;=50K</td>\n",
              "    </tr>\n",
              "    <tr>\n",
              "      <th>2</th>\n",
              "      <td>38</td>\n",
              "      <td>Private</td>\n",
              "      <td>HS-grad</td>\n",
              "      <td>9</td>\n",
              "      <td>Divorced</td>\n",
              "      <td>Handlers-cleaners</td>\n",
              "      <td>Not-in-family</td>\n",
              "      <td>White</td>\n",
              "      <td>Male</td>\n",
              "      <td>0</td>\n",
              "      <td>0</td>\n",
              "      <td>40</td>\n",
              "      <td>United-States</td>\n",
              "      <td>&lt;=50K</td>\n",
              "    </tr>\n",
              "    <tr>\n",
              "      <th>3</th>\n",
              "      <td>53</td>\n",
              "      <td>Private</td>\n",
              "      <td>11th</td>\n",
              "      <td>7</td>\n",
              "      <td>Married-civ-spouse</td>\n",
              "      <td>Handlers-cleaners</td>\n",
              "      <td>Husband</td>\n",
              "      <td>Black</td>\n",
              "      <td>Male</td>\n",
              "      <td>0</td>\n",
              "      <td>0</td>\n",
              "      <td>40</td>\n",
              "      <td>United-States</td>\n",
              "      <td>&lt;=50K</td>\n",
              "    </tr>\n",
              "    <tr>\n",
              "      <th>4</th>\n",
              "      <td>28</td>\n",
              "      <td>Private</td>\n",
              "      <td>Bachelors</td>\n",
              "      <td>13</td>\n",
              "      <td>Married-civ-spouse</td>\n",
              "      <td>Prof-specialty</td>\n",
              "      <td>Wife</td>\n",
              "      <td>Black</td>\n",
              "      <td>Female</td>\n",
              "      <td>0</td>\n",
              "      <td>0</td>\n",
              "      <td>40</td>\n",
              "      <td>Cuba</td>\n",
              "      <td>&lt;=50K</td>\n",
              "    </tr>\n",
              "  </tbody>\n",
              "</table>\n",
              "</div>"
            ],
            "text/plain": [
              "   age          workclass   education  education_num       marital_status  \\\n",
              "0   39          State-gov   Bachelors             13        Never-married   \n",
              "1   50   Self-emp-not-inc   Bachelors             13   Married-civ-spouse   \n",
              "2   38            Private     HS-grad              9             Divorced   \n",
              "3   53            Private        11th              7   Married-civ-spouse   \n",
              "4   28            Private   Bachelors             13   Married-civ-spouse   \n",
              "\n",
              "           occupation    relationship    race   gender  capital_gain  \\\n",
              "0        Adm-clerical   Not-in-family   White     Male          2174   \n",
              "1     Exec-managerial         Husband   White     Male             0   \n",
              "2   Handlers-cleaners   Not-in-family   White     Male             0   \n",
              "3   Handlers-cleaners         Husband   Black     Male             0   \n",
              "4      Prof-specialty            Wife   Black   Female             0   \n",
              "\n",
              "   capital_loss  hours_per_week  native_country income_bracket  \n",
              "0             0              40   United-States          <=50K  \n",
              "1             0              13   United-States          <=50K  \n",
              "2             0              40   United-States          <=50K  \n",
              "3             0              40   United-States          <=50K  \n",
              "4             0              40            Cuba          <=50K  "
            ]
          },
          "metadata": {
            "tags": []
          },
          "execution_count": 54
        }
      ]
    },
    {
      "metadata": {
        "id": "UVvqVQY-Zj6_",
        "colab_type": "code",
        "outputId": "88715f1d-a00c-4a90-853c-12f076fa6c0f",
        "colab": {
          "base_uri": "https://localhost:8080/",
          "height": 35
        }
      },
      "cell_type": "code",
      "source": [
        "census['income_bracket'].unique()"
      ],
      "execution_count": 0,
      "outputs": [
        {
          "output_type": "execute_result",
          "data": {
            "text/plain": [
              "array([' <=50K', ' >50K'], dtype=object)"
            ]
          },
          "metadata": {
            "tags": []
          },
          "execution_count": 55
        }
      ]
    },
    {
      "metadata": {
        "id": "D5j0dnTrZys3",
        "colab_type": "code",
        "colab": {}
      },
      "cell_type": "code",
      "source": [
        "def label_fix(label):\n",
        "  if label == '<=50K':\n",
        "    return 0\n",
        "  else:\n",
        "    return 1"
      ],
      "execution_count": 0,
      "outputs": []
    },
    {
      "metadata": {
        "id": "PXddMTCZaNCk",
        "colab_type": "code",
        "colab": {}
      },
      "cell_type": "code",
      "source": [
        "census['income_bracket'] = census['income_bracket'].apply(label_fix)"
      ],
      "execution_count": 0,
      "outputs": []
    },
    {
      "metadata": {
        "id": "ZKTInyNjaZBb",
        "colab_type": "text"
      },
      "cell_type": "markdown",
      "source": [
        "#### Performing train, test split on census data"
      ]
    },
    {
      "metadata": {
        "id": "nY7NNmeVaVqV",
        "colab_type": "code",
        "colab": {}
      },
      "cell_type": "code",
      "source": [
        "from sklearn.model_selection import train_test_split"
      ],
      "execution_count": 0,
      "outputs": []
    },
    {
      "metadata": {
        "id": "ne4zDGrpatz4",
        "colab_type": "code",
        "colab": {}
      },
      "cell_type": "code",
      "source": [
        "X = census.drop(labels=['income_bracket'], axis=1, inplace=False)\n",
        "y = census['income_bracket']\n",
        "X_train, X_test, y_train, y_test = train_test_split(X, y, test_size=0.3, random_state=101)"
      ],
      "execution_count": 0,
      "outputs": []
    },
    {
      "metadata": {
        "id": "mg0hpk6zb32l",
        "colab_type": "text"
      },
      "cell_type": "markdown",
      "source": [
        "TensorFlow offers an API called estimator\n",
        "\n",
        "`model = tf.estimator.LinearClassifier(feature_columns=feat_cols)\n",
        "\n",
        "model.train(input_func, steps=5000)`\n",
        "\n",
        "prepare feature columns and input function"
      ]
    },
    {
      "metadata": {
        "id": "j4iqnZjUbgao",
        "colab_type": "code",
        "outputId": "1b71b015-3052-47eb-e549-3704a74b35cf",
        "colab": {
          "base_uri": "https://localhost:8080/",
          "height": 90
        }
      },
      "cell_type": "code",
      "source": [
        "census.columns"
      ],
      "execution_count": 0,
      "outputs": [
        {
          "output_type": "execute_result",
          "data": {
            "text/plain": [
              "Index(['age', 'workclass', 'education', 'education_num', 'marital_status',\n",
              "       'occupation', 'relationship', 'race', 'gender', 'capital_gain',\n",
              "       'capital_loss', 'hours_per_week', 'native_country', 'income_bracket'],\n",
              "      dtype='object')"
            ]
          },
          "metadata": {
            "tags": []
          },
          "execution_count": 61
        }
      ]
    },
    {
      "metadata": {
        "id": "ascti5Vwe1DP",
        "colab_type": "text"
      },
      "cell_type": "markdown",
      "source": [
        "using `feature_columns` for categorical values; use vocabulary  list or just hash buckets"
      ]
    },
    {
      "metadata": {
        "id": "qldbnjR3fL4y",
        "colab_type": "code",
        "colab": {}
      },
      "cell_type": "code",
      "source": [
        "gender = tf.feature_column.categorical_column_with_vocabulary_list(\"gender\", ['Female', 'Male'])\n",
        "occupation = tf.feature_column.categorical_column_with_hash_bucket(\"occupation\", hash_bucket_size=1000)\n",
        "marital_status = tf.feature_column.categorical_column_with_hash_bucket(\"marital_status\", hash_bucket_size=1000)\n",
        "relationship = tf.feature_column.categorical_column_with_hash_bucket(\"relationship\", hash_bucket_size=1000)\n",
        "education = tf.feature_column.categorical_column_with_hash_bucket(\"education\", hash_bucket_size=1000)\n",
        "workclass = tf.feature_column.categorical_column_with_hash_bucket(\"workclass\", hash_bucket_size=1000)\n"
      ],
      "execution_count": 0,
      "outputs": []
    },
    {
      "metadata": {
        "id": "97uMm0XLgZxb",
        "colab_type": "text"
      },
      "cell_type": "markdown",
      "source": [
        "create continuous feature_columns for the continuous values using numeric_column"
      ]
    },
    {
      "metadata": {
        "id": "WewxW67dga5P",
        "colab_type": "code",
        "colab": {}
      },
      "cell_type": "code",
      "source": [
        "age = tf.feature_column.numeric_column(\"age\")\n",
        "education_num = tf.feature_column.numeric_column(\"education_num\")\n",
        "capital_gain = tf.feature_column.numeric_column(\"capital_gain\")\n",
        "capital_loss = tf.feature_column.numeric_column(\"capital_loss\")\n",
        "hours_per_week = tf.feature_column.numeric_column(\"hours_per_week\")\n"
      ],
      "execution_count": 0,
      "outputs": []
    },
    {
      "metadata": {
        "id": "bzDr7q1lgldw",
        "colab_type": "text"
      },
      "cell_type": "markdown",
      "source": [
        "Put all these variables into a single list with the variable name feat_cols"
      ]
    },
    {
      "metadata": {
        "id": "DKRLNPV9gfmd",
        "colab_type": "code",
        "colab": {}
      },
      "cell_type": "code",
      "source": [
        "feat_cols = [gender, occupation, marital_status, relationship, education, workclass, age, education_num, capital_gain, capital_loss, hours_per_week]"
      ],
      "execution_count": 0,
      "outputs": []
    },
    {
      "metadata": {
        "id": "6i_EwuO5hGDE",
        "colab_type": "text"
      },
      "cell_type": "markdown",
      "source": [
        "##### Create the input function\n",
        "batch size is up to you"
      ]
    },
    {
      "metadata": {
        "id": "Ydwlk_wlhD0P",
        "colab_type": "code",
        "colab": {}
      },
      "cell_type": "code",
      "source": [
        "input_func = tf.estimator.inputs.pandas_input_fn(x=X_train, y=y_train, batch_size=100, num_epochs=None, shuffle=True)"
      ],
      "execution_count": 0,
      "outputs": []
    },
    {
      "metadata": {
        "id": "BmV18K9qkHo2",
        "colab_type": "code",
        "outputId": "f8dc4902-4afb-4ce5-a9b7-f430d082d6d3",
        "colab": {
          "base_uri": "https://localhost:8080/",
          "height": 2455
        }
      },
      "cell_type": "code",
      "source": [
        "model = tf.estimator.LinearClassifier(feature_columns=feat_cols)\n",
        "\n",
        "model.train(input_fn=input_func, steps=5000)"
      ],
      "execution_count": 0,
      "outputs": [
        {
          "output_type": "stream",
          "text": [
            "INFO:tensorflow:Using default config.\n",
            "WARNING:tensorflow:Using temporary folder as model directory: /tmp/tmpb0_jlozu\n",
            "INFO:tensorflow:Using config: {'_model_dir': '/tmp/tmpb0_jlozu', '_tf_random_seed': None, '_save_summary_steps': 100, '_save_checkpoints_steps': None, '_save_checkpoints_secs': 600, '_session_config': allow_soft_placement: true\n",
            "graph_options {\n",
            "  rewrite_options {\n",
            "    meta_optimizer_iterations: ONE\n",
            "  }\n",
            "}\n",
            ", '_keep_checkpoint_max': 5, '_keep_checkpoint_every_n_hours': 10000, '_log_step_count_steps': 100, '_train_distribute': None, '_device_fn': None, '_protocol': None, '_eval_distribute': None, '_experimental_distribute': None, '_service': None, '_cluster_spec': <tensorflow.python.training.server_lib.ClusterSpec object at 0x7ff39b556c18>, '_task_type': 'worker', '_task_id': 0, '_global_id_in_cluster': 0, '_master': '', '_evaluation_master': '', '_is_chief': True, '_num_ps_replicas': 0, '_num_worker_replicas': 1}\n",
            "WARNING:tensorflow:From /usr/local/lib/python3.6/dist-packages/tensorflow_estimator/python/estimator/inputs/queues/feeding_queue_runner.py:62: QueueRunner.__init__ (from tensorflow.python.training.queue_runner_impl) is deprecated and will be removed in a future version.\n",
            "Instructions for updating:\n",
            "To construct input pipelines, use the `tf.data` module.\n",
            "WARNING:tensorflow:From /usr/local/lib/python3.6/dist-packages/tensorflow_estimator/python/estimator/inputs/queues/feeding_functions.py:500: add_queue_runner (from tensorflow.python.training.queue_runner_impl) is deprecated and will be removed in a future version.\n",
            "Instructions for updating:\n",
            "To construct input pipelines, use the `tf.data` module.\n",
            "INFO:tensorflow:Calling model_fn.\n",
            "WARNING:tensorflow:From /usr/local/lib/python3.6/dist-packages/tensorflow/python/feature_column/feature_column_v2.py:2703: to_float (from tensorflow.python.ops.math_ops) is deprecated and will be removed in a future version.\n",
            "Instructions for updating:\n",
            "Use tf.cast instead.\n",
            "WARNING:tensorflow:From /usr/local/lib/python3.6/dist-packages/tensorflow/python/ops/lookup_ops.py:1137: to_int64 (from tensorflow.python.ops.math_ops) is deprecated and will be removed in a future version.\n",
            "Instructions for updating:\n",
            "Use tf.cast instead.\n",
            "INFO:tensorflow:Done calling model_fn.\n",
            "INFO:tensorflow:Create CheckpointSaverHook.\n",
            "INFO:tensorflow:Graph was finalized.\n",
            "INFO:tensorflow:Running local_init_op.\n",
            "INFO:tensorflow:Done running local_init_op.\n",
            "WARNING:tensorflow:From /usr/local/lib/python3.6/dist-packages/tensorflow/python/training/monitored_session.py:809: start_queue_runners (from tensorflow.python.training.queue_runner_impl) is deprecated and will be removed in a future version.\n",
            "Instructions for updating:\n",
            "To construct input pipelines, use the `tf.data` module.\n",
            "INFO:tensorflow:Saving checkpoints for 0 into /tmp/tmpb0_jlozu/model.ckpt.\n",
            "INFO:tensorflow:loss = 69.31472, step = 0\n",
            "INFO:tensorflow:global_step/sec: 74.7\n",
            "INFO:tensorflow:loss = 0.0001388313, step = 100 (1.344 sec)\n",
            "INFO:tensorflow:global_step/sec: 92.5714\n",
            "INFO:tensorflow:loss = 0.00023018682, step = 200 (1.077 sec)\n",
            "INFO:tensorflow:global_step/sec: 94.1579\n",
            "INFO:tensorflow:loss = 0.00027286945, step = 300 (1.062 sec)\n",
            "INFO:tensorflow:global_step/sec: 91.9888\n",
            "INFO:tensorflow:loss = 8.635372e-05, step = 400 (1.089 sec)\n",
            "INFO:tensorflow:global_step/sec: 92.7245\n",
            "INFO:tensorflow:loss = 0.00023553628, step = 500 (1.079 sec)\n",
            "INFO:tensorflow:global_step/sec: 94.1568\n",
            "INFO:tensorflow:loss = 0.00014299322, step = 600 (1.063 sec)\n",
            "INFO:tensorflow:global_step/sec: 92.7\n",
            "INFO:tensorflow:loss = 0.0004996762, step = 700 (1.079 sec)\n",
            "INFO:tensorflow:global_step/sec: 88.8521\n",
            "INFO:tensorflow:loss = 3.94438e-05, step = 800 (1.122 sec)\n",
            "INFO:tensorflow:global_step/sec: 79.7163\n",
            "INFO:tensorflow:loss = 0.00027854514, step = 900 (1.256 sec)\n",
            "INFO:tensorflow:global_step/sec: 80.0227\n",
            "INFO:tensorflow:loss = 0.00021318127, step = 1000 (1.248 sec)\n",
            "INFO:tensorflow:global_step/sec: 75.673\n",
            "INFO:tensorflow:loss = 0.0002005891, step = 1100 (1.321 sec)\n",
            "INFO:tensorflow:global_step/sec: 78.9903\n",
            "INFO:tensorflow:loss = 0.00011903085, step = 1200 (1.266 sec)\n",
            "INFO:tensorflow:global_step/sec: 80.057\n",
            "INFO:tensorflow:loss = 0.00010792478, step = 1300 (1.253 sec)\n",
            "INFO:tensorflow:global_step/sec: 80.0772\n",
            "INFO:tensorflow:loss = 0.0007069188, step = 1400 (1.250 sec)\n",
            "INFO:tensorflow:global_step/sec: 79.5811\n",
            "INFO:tensorflow:loss = 7.489324e-05, step = 1500 (1.255 sec)\n",
            "INFO:tensorflow:global_step/sec: 79.7286\n",
            "INFO:tensorflow:loss = 0.00017848422, step = 1600 (1.254 sec)\n",
            "INFO:tensorflow:global_step/sec: 92.6927\n",
            "INFO:tensorflow:loss = 0.0003001733, step = 1700 (1.075 sec)\n",
            "INFO:tensorflow:global_step/sec: 91.8787\n",
            "INFO:tensorflow:loss = 0.00031115237, step = 1800 (1.092 sec)\n",
            "INFO:tensorflow:global_step/sec: 93.8841\n",
            "INFO:tensorflow:loss = 0.0007123843, step = 1900 (1.064 sec)\n",
            "INFO:tensorflow:global_step/sec: 93.0982\n",
            "INFO:tensorflow:loss = 0.000915154, step = 2000 (1.071 sec)\n",
            "INFO:tensorflow:global_step/sec: 91.3913\n",
            "INFO:tensorflow:loss = 0.00047051974, step = 2100 (1.095 sec)\n",
            "INFO:tensorflow:global_step/sec: 92.7142\n",
            "INFO:tensorflow:loss = 0.00095733505, step = 2200 (1.082 sec)\n",
            "INFO:tensorflow:global_step/sec: 93.1123\n",
            "INFO:tensorflow:loss = 1.2926477e-05, step = 2300 (1.072 sec)\n",
            "INFO:tensorflow:global_step/sec: 93.1905\n",
            "INFO:tensorflow:loss = 0.0003214329, step = 2400 (1.070 sec)\n",
            "INFO:tensorflow:global_step/sec: 91.43\n",
            "INFO:tensorflow:loss = 0.0009760174, step = 2500 (1.095 sec)\n",
            "INFO:tensorflow:global_step/sec: 94.5914\n",
            "INFO:tensorflow:loss = 5.6048942e-05, step = 2600 (1.061 sec)\n",
            "INFO:tensorflow:global_step/sec: 93.8413\n",
            "INFO:tensorflow:loss = 0.00018604052, step = 2700 (1.064 sec)\n",
            "INFO:tensorflow:global_step/sec: 90.957\n",
            "INFO:tensorflow:loss = 0.00020126348, step = 2800 (1.098 sec)\n",
            "INFO:tensorflow:global_step/sec: 93.8341\n",
            "INFO:tensorflow:loss = 0.0005149033, step = 2900 (1.066 sec)\n",
            "INFO:tensorflow:global_step/sec: 92.4329\n",
            "INFO:tensorflow:loss = 3.6414905e-05, step = 3000 (1.080 sec)\n",
            "INFO:tensorflow:global_step/sec: 92.8801\n",
            "INFO:tensorflow:loss = 0.0005744566, step = 3100 (1.079 sec)\n",
            "INFO:tensorflow:global_step/sec: 91.5597\n",
            "INFO:tensorflow:loss = 0.0001427255, step = 3200 (1.091 sec)\n",
            "INFO:tensorflow:global_step/sec: 93.5727\n",
            "INFO:tensorflow:loss = 0.00016090724, step = 3300 (1.069 sec)\n",
            "INFO:tensorflow:global_step/sec: 94.4464\n",
            "INFO:tensorflow:loss = 0.0004989664, step = 3400 (1.059 sec)\n",
            "INFO:tensorflow:global_step/sec: 90.0649\n",
            "INFO:tensorflow:loss = 7.08624e-05, step = 3500 (1.111 sec)\n",
            "INFO:tensorflow:global_step/sec: 93.5834\n",
            "INFO:tensorflow:loss = 0.00039983442, step = 3600 (1.072 sec)\n",
            "INFO:tensorflow:global_step/sec: 92.668\n",
            "INFO:tensorflow:loss = 0.00011777784, step = 3700 (1.074 sec)\n",
            "INFO:tensorflow:global_step/sec: 92.2561\n",
            "INFO:tensorflow:loss = 0.00063098455, step = 3800 (1.087 sec)\n",
            "INFO:tensorflow:global_step/sec: 91.0556\n",
            "INFO:tensorflow:loss = 0.0009975404, step = 3900 (1.095 sec)\n",
            "INFO:tensorflow:global_step/sec: 93.8312\n",
            "INFO:tensorflow:loss = 4.5038432e-05, step = 4000 (1.066 sec)\n",
            "INFO:tensorflow:global_step/sec: 93.762\n",
            "INFO:tensorflow:loss = 0.00011040911, step = 4100 (1.070 sec)\n",
            "INFO:tensorflow:global_step/sec: 89.8449\n",
            "INFO:tensorflow:loss = 0.00030464376, step = 4200 (1.111 sec)\n",
            "INFO:tensorflow:global_step/sec: 93.6469\n",
            "INFO:tensorflow:loss = 0.00088180305, step = 4300 (1.079 sec)\n",
            "INFO:tensorflow:global_step/sec: 90.5964\n",
            "INFO:tensorflow:loss = 0.00031887108, step = 4400 (1.091 sec)\n",
            "INFO:tensorflow:global_step/sec: 92.3076\n",
            "INFO:tensorflow:loss = 0.0001379011, step = 4500 (1.085 sec)\n",
            "INFO:tensorflow:global_step/sec: 90.396\n",
            "INFO:tensorflow:loss = 0.00032272478, step = 4600 (1.108 sec)\n",
            "INFO:tensorflow:global_step/sec: 94.3769\n",
            "INFO:tensorflow:loss = 7.515562e-05, step = 4700 (1.059 sec)\n",
            "INFO:tensorflow:global_step/sec: 89.6934\n",
            "INFO:tensorflow:loss = 0.0003023117, step = 4800 (1.115 sec)\n",
            "INFO:tensorflow:global_step/sec: 92.4733\n",
            "INFO:tensorflow:loss = 0.00019961788, step = 4900 (1.082 sec)\n",
            "INFO:tensorflow:Saving checkpoints for 5000 into /tmp/tmpb0_jlozu/model.ckpt.\n",
            "INFO:tensorflow:Loss for final step: 0.0001707509.\n"
          ],
          "name": "stdout"
        },
        {
          "output_type": "execute_result",
          "data": {
            "text/plain": [
              "<tensorflow_estimator.python.estimator.canned.linear.LinearClassifier at 0x7ff39b546898>"
            ]
          },
          "metadata": {
            "tags": []
          },
          "execution_count": 69
        }
      ]
    },
    {
      "metadata": {
        "id": "45pZXHIQk8CG",
        "colab_type": "text"
      },
      "cell_type": "markdown",
      "source": [
        "#### Evaluation"
      ]
    },
    {
      "metadata": {
        "id": "1PPkMC9tkbxa",
        "colab_type": "code",
        "colab": {}
      },
      "cell_type": "code",
      "source": [
        "pred_fn = tf.estimator.inputs.pandas_input_fn(x=X_test, batch_size=len(X_test), shuffle=False)"
      ],
      "execution_count": 0,
      "outputs": []
    },
    {
      "metadata": {
        "id": "xrnHGNDYlVbR",
        "colab_type": "code",
        "outputId": "3b6a665f-b2ca-4aa7-dfd3-b087afad5a8b",
        "colab": {
          "base_uri": "https://localhost:8080/",
          "height": 201
        }
      },
      "cell_type": "code",
      "source": [
        "predictions = list(model.predict(input_fn=pred_fn))"
      ],
      "execution_count": 0,
      "outputs": [
        {
          "output_type": "stream",
          "text": [
            "INFO:tensorflow:Calling model_fn.\n",
            "INFO:tensorflow:Done calling model_fn.\n",
            "INFO:tensorflow:Graph was finalized.\n",
            "WARNING:tensorflow:From /usr/local/lib/python3.6/dist-packages/tensorflow/python/training/saver.py:1266: checkpoint_exists (from tensorflow.python.training.checkpoint_management) is deprecated and will be removed in a future version.\n",
            "Instructions for updating:\n",
            "Use standard file APIs to check for files with this prefix.\n",
            "INFO:tensorflow:Restoring parameters from /tmp/tmpb0_jlozu/model.ckpt-5000\n",
            "INFO:tensorflow:Running local_init_op.\n",
            "INFO:tensorflow:Done running local_init_op.\n"
          ],
          "name": "stdout"
        }
      ]
    },
    {
      "metadata": {
        "id": "9fgRcIMXljhz",
        "colab_type": "code",
        "outputId": "7b198ba0-a820-45fc-b60b-309bd0c45992",
        "colab": {
          "base_uri": "https://localhost:8080/",
          "height": 108
        }
      },
      "cell_type": "code",
      "source": [
        "predictions[0]"
      ],
      "execution_count": 0,
      "outputs": [
        {
          "output_type": "execute_result",
          "data": {
            "text/plain": [
              "{'class_ids': array([1]),\n",
              " 'classes': array([b'1'], dtype=object),\n",
              " 'logistic': array([1.], dtype=float32),\n",
              " 'logits': array([21.518827], dtype=float32),\n",
              " 'probabilities': array([4.513277e-10, 1.000000e+00], dtype=float32)}"
            ]
          },
          "metadata": {
            "tags": []
          },
          "execution_count": 72
        }
      ]
    },
    {
      "metadata": {
        "id": "nwJQdAL0lvIe",
        "colab_type": "text"
      },
      "cell_type": "markdown",
      "source": [
        "Create a list of only class_ids key values from the prediction list of dictionaries, there are predictions you will use to compare against the real y_test values."
      ]
    },
    {
      "metadata": {
        "id": "l6Dg1E0al_ku",
        "colab_type": "code",
        "colab": {}
      },
      "cell_type": "code",
      "source": [
        "final_preds = []\n",
        "for pred in predictions:\n",
        "  final_preds.append(pred['class_ids'][0])"
      ],
      "execution_count": 0,
      "outputs": []
    },
    {
      "metadata": {
        "id": "3r_gXzd7mKfc",
        "colab_type": "code",
        "colab": {}
      },
      "cell_type": "code",
      "source": [
        "from sklearn.metrics import classification_report"
      ],
      "execution_count": 0,
      "outputs": []
    },
    {
      "metadata": {
        "id": "wb0Jl_PZmXba",
        "colab_type": "code",
        "outputId": "332e8e4e-8ce5-466c-c7b7-a7731aa10e6c",
        "colab": {
          "base_uri": "https://localhost:8080/",
          "height": 163
        }
      },
      "cell_type": "code",
      "source": [
        "print(classification_report(y_test, final_preds))"
      ],
      "execution_count": 0,
      "outputs": [
        {
          "output_type": "stream",
          "text": [
            "              precision    recall  f1-score   support\n",
            "\n",
            "           1       1.00      1.00      1.00      9769\n",
            "\n",
            "   micro avg       1.00      1.00      1.00      9769\n",
            "   macro avg       1.00      1.00      1.00      9769\n",
            "weighted avg       1.00      1.00      1.00      9769\n",
            "\n"
          ],
          "name": "stdout"
        }
      ]
    },
    {
      "metadata": {
        "id": "32H4mRTjmel8",
        "colab_type": "code",
        "colab": {}
      },
      "cell_type": "code",
      "source": [
        ""
      ],
      "execution_count": 0,
      "outputs": []
    }
  ]
}